{
 "cells": [
  {
   "attachments": {},
   "cell_type": "markdown",
   "metadata": {},
   "source": [
    "I'm trying to put some python on my website!"
   ]
  },
  {
   "cell_type": "code",
   "execution_count": null,
   "metadata": {},
   "outputs": [],
   "source": [
    "def prime_fact(num: int) -> dict:\n",
    "    \"\"\"Returns the prime factorization of a number as a dict with primes as keys and powers as values.\"\"\"\n",
    "\n",
    "    enter()\n",
    "    print(f\"{num} =\")\n",
    "    enter()\n",
    "\n",
    "    small_num: int = 2\n",
    "    result: dict[int, int] = {}\n",
    "\n",
    "\n",
    "    while small_num <= num:\n",
    "        if (num % small_num) == 0:\n",
    "            result[small_num] = 0\n",
    "        while (num % small_num) == 0:\n",
    "            result[small_num] += 1\n",
    "            num /= small_num\n",
    "            small_num += 1\n",
    "    \n",
    "    for prime in result:\n",
    "        print(f\"{prime}^{result[prime]}\")\n",
    "    enter()\n",
    "    \n",
    "    return result\n",
    "\n",
    "def enter() -> None:\n",
    "    print(\"\")\n",
    "\n",
    "num: int = input(\"enter a positive integer: \")\n",
    "enter()\n",
    "\n",
    "print(f\"{num} =\")\n",
    "enter()\n",
    "\n",
    "small_num: int = 2\n",
    "result: dict[int, int] = {}\n",
    "\n",
    "while small_num <= num:\n",
    "    if (num % small_num) == 0:\n",
    "        result[small_num] = 0\n",
    "    while (num % small_num) == 0:\n",
    "        result[small_num] += 1\n",
    "        num /= small_num\n",
    "    small_num += 1\n",
    "\n",
    "for prime in result:\n",
    "    print(f\"{prime}^{result[prime]}\")\n",
    "enter()\n",
    "\n",
    "print(result)"
   ]
  }
 ],
 "metadata": {
  "language_info": {
   "name": "python"
  },
  "orig_nbformat": 4
 },
 "nbformat": 4,
 "nbformat_minor": 2
}
